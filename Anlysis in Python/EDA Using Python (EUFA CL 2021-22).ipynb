{
 "cells": [
  {
   "cell_type": "markdown",
   "id": "74f7250a",
   "metadata": {},
   "source": [
    "# 1. Introduction"
   ]
  },
  {
   "cell_type": "markdown",
   "id": "74e18c99",
   "metadata": {},
   "source": [
    "I love soccer and my favorite team Real Madrid has the won UEFA Champions League for the 14th time in its history. In comemoration of their latest achievement and the road it takes to accomplish what many European Soccer Teams set out to do, lets do some exploratory work of the 2021-2022 EUFA Champions League Season."
   ]
  },
  {
   "cell_type": "markdown",
   "id": "c133e265",
   "metadata": {},
   "source": [
    "# 2. Import Observations and Initial Configuration"
   ]
  },
  {
   "cell_type": "code",
   "execution_count": 21,
   "id": "b953facd",
   "metadata": {},
   "outputs": [],
   "source": [
    "#Import Libraries\n",
    "\n",
    "import warnings\n",
    "warnings.simplefilter(action='ignore', category=FutureWarning)\n",
    "\n",
    "import numpy as np \n",
    "import pandas as pd \n",
    "import seaborn as sns\n",
    "import matplotlib.pyplot as plt\n",
    "%matplotlib inline\n",
    "\n",
    "import plotly.graph_objs as go\n",
    "from plotly.offline import download_plotlyjs, init_notebook_mode, plot, iplot\n",
    "import plotly.express as px\n",
    "\n",
    "\n",
    "from sklearn import manifold\n"
   ]
  },
  {
   "cell_type": "markdown",
   "id": "7a9258ca",
   "metadata": {},
   "source": [
    "## Reading Data"
   ]
  },
  {
   "cell_type": "markdown",
   "id": "86fc152c",
   "metadata": {},
   "source": [
    "### Read and import datasets regarding key stats\n",
    "\n",
    "* attacking.csv : All attacking data.\n",
    "* attempts.csv : All attacking atttempts data.\n",
    "* defending.csv : All defensive and tackle data.\n",
    "* disciplinary.csv : All fouls and bookings data.\n",
    "* distributon.csv : All distribution and passing data.\n",
    "* goalkeeping.csv : All GK (saves, conceded goals, punches) data.\n",
    "* goals.csv : All goals data.\n",
    "* key_stats.csv : Overall stats of all players. <br>\n",
    "\n",
    "**All files contain stats by player name and clubs names**"
   ]
  },
  {
   "cell_type": "markdown",
   "id": "631d6cd7",
   "metadata": {},
   "source": [
    "## Import Data"
   ]
  },
  {
   "cell_type": "code",
   "execution_count": 5,
   "id": "13ccc568",
   "metadata": {},
   "outputs": [],
   "source": [
    "#Import data\n",
    "\n",
    "attacking = pd.read_csv(\"/Users/EdgarElias/Desktop/Anlysis in Python/ChampionDataSet/attacking.csv\")\n",
    "attempts = pd.read_csv(\"/Users/EdgarElias/Desktop/Anlysis in Python/ChampionDataSet/attempts.csv\")\n",
    "defending = pd.read_csv(\"/Users/EdgarElias/Desktop/Anlysis in Python/ChampionDataSet/defending.csv\")\n",
    "disciplinary = pd.read_csv(\"/Users/EdgarElias/Desktop/Anlysis in Python/ChampionDataSet/disciplinary.csv\")\n",
    "distribution = pd.read_csv(\"/Users/EdgarElias/Desktop/Anlysis in Python/ChampionDataSet/distributon.csv\")\n",
    "goalkeeping = pd.read_csv(\"/Users/EdgarElias/Desktop/Anlysis in Python/ChampionDataSet/goalkeeping.csv\")\n",
    "goals = pd.read_csv(\"/Users/EdgarElias/Desktop/Anlysis in Python/ChampionDataSet/goals.csv\")\n",
    "key_stats = pd.read_csv(\"/Users/EdgarElias/Desktop/Anlysis in Python/ChampionDataSet/key_stats.csv\")"
   ]
  },
  {
   "cell_type": "markdown",
   "id": "def702d0",
   "metadata": {},
   "source": [
    "# 3. Insights and Analysis"
   ]
  },
  {
   "cell_type": "markdown",
   "id": "f8628661",
   "metadata": {},
   "source": [
    "### Key Stats"
   ]
  },
  {
   "cell_type": "markdown",
   "id": "444e74ed",
   "metadata": {},
   "source": [
    "Quick glimpse of the data shows the key stats are compromised of player, club, position, minutes played, matches played, goals, assits and distance covered"
   ]
  },
  {
   "cell_type": "code",
   "execution_count": 7,
   "id": "d4aee237",
   "metadata": {},
   "outputs": [
    {
     "data": {
      "text/html": [
       "<div>\n",
       "<style scoped>\n",
       "    .dataframe tbody tr th:only-of-type {\n",
       "        vertical-align: middle;\n",
       "    }\n",
       "\n",
       "    .dataframe tbody tr th {\n",
       "        vertical-align: top;\n",
       "    }\n",
       "\n",
       "    .dataframe thead th {\n",
       "        text-align: right;\n",
       "    }\n",
       "</style>\n",
       "<table border=\"1\" class=\"dataframe\">\n",
       "  <thead>\n",
       "    <tr style=\"text-align: right;\">\n",
       "      <th></th>\n",
       "      <th>player_name</th>\n",
       "      <th>club</th>\n",
       "      <th>position</th>\n",
       "      <th>minutes_played</th>\n",
       "      <th>match_played</th>\n",
       "      <th>goals</th>\n",
       "      <th>assists</th>\n",
       "      <th>distance_covered</th>\n",
       "    </tr>\n",
       "  </thead>\n",
       "  <tbody>\n",
       "    <tr>\n",
       "      <th>0</th>\n",
       "      <td>Courtois</td>\n",
       "      <td>Real Madrid</td>\n",
       "      <td>Goalkeeper</td>\n",
       "      <td>1230</td>\n",
       "      <td>13</td>\n",
       "      <td>0</td>\n",
       "      <td>0</td>\n",
       "      <td>64.2</td>\n",
       "    </tr>\n",
       "    <tr>\n",
       "      <th>1</th>\n",
       "      <td>Vinícius Júnior</td>\n",
       "      <td>Real Madrid</td>\n",
       "      <td>Forward</td>\n",
       "      <td>1199</td>\n",
       "      <td>13</td>\n",
       "      <td>4</td>\n",
       "      <td>6</td>\n",
       "      <td>133.0</td>\n",
       "    </tr>\n",
       "    <tr>\n",
       "      <th>2</th>\n",
       "      <td>Benzema</td>\n",
       "      <td>Real Madrid</td>\n",
       "      <td>Forward</td>\n",
       "      <td>1106</td>\n",
       "      <td>12</td>\n",
       "      <td>15</td>\n",
       "      <td>1</td>\n",
       "      <td>121.5</td>\n",
       "    </tr>\n",
       "    <tr>\n",
       "      <th>3</th>\n",
       "      <td>Modrić</td>\n",
       "      <td>Real Madrid</td>\n",
       "      <td>Midfielder</td>\n",
       "      <td>1077</td>\n",
       "      <td>13</td>\n",
       "      <td>0</td>\n",
       "      <td>4</td>\n",
       "      <td>124.5</td>\n",
       "    </tr>\n",
       "    <tr>\n",
       "      <th>4</th>\n",
       "      <td>Éder Militão</td>\n",
       "      <td>Real Madrid</td>\n",
       "      <td>Defender</td>\n",
       "      <td>1076</td>\n",
       "      <td>12</td>\n",
       "      <td>0</td>\n",
       "      <td>0</td>\n",
       "      <td>110.4</td>\n",
       "    </tr>\n",
       "    <tr>\n",
       "      <th>5</th>\n",
       "      <td>Alaba</td>\n",
       "      <td>Real Madrid</td>\n",
       "      <td>Defender</td>\n",
       "      <td>1040</td>\n",
       "      <td>12</td>\n",
       "      <td>1</td>\n",
       "      <td>0</td>\n",
       "      <td>112.3</td>\n",
       "    </tr>\n",
       "    <tr>\n",
       "      <th>6</th>\n",
       "      <td>Carvajal</td>\n",
       "      <td>Real Madrid</td>\n",
       "      <td>Defender</td>\n",
       "      <td>959</td>\n",
       "      <td>11</td>\n",
       "      <td>0</td>\n",
       "      <td>1</td>\n",
       "      <td>112.8</td>\n",
       "    </tr>\n",
       "    <tr>\n",
       "      <th>7</th>\n",
       "      <td>Casemiro</td>\n",
       "      <td>Real Madrid</td>\n",
       "      <td>Midfielder</td>\n",
       "      <td>914</td>\n",
       "      <td>11</td>\n",
       "      <td>0</td>\n",
       "      <td>0</td>\n",
       "      <td>107.6</td>\n",
       "    </tr>\n",
       "    <tr>\n",
       "      <th>8</th>\n",
       "      <td>Kroos</td>\n",
       "      <td>Real Madrid</td>\n",
       "      <td>Midfielder</td>\n",
       "      <td>902</td>\n",
       "      <td>12</td>\n",
       "      <td>2</td>\n",
       "      <td>0</td>\n",
       "      <td>116.5</td>\n",
       "    </tr>\n",
       "    <tr>\n",
       "      <th>9</th>\n",
       "      <td>Mendy</td>\n",
       "      <td>Real Madrid</td>\n",
       "      <td>Defender</td>\n",
       "      <td>867</td>\n",
       "      <td>10</td>\n",
       "      <td>0</td>\n",
       "      <td>2</td>\n",
       "      <td>96.3</td>\n",
       "    </tr>\n",
       "  </tbody>\n",
       "</table>\n",
       "</div>"
      ],
      "text/plain": [
       "       player_name         club    position  minutes_played  match_played  \\\n",
       "0         Courtois  Real Madrid  Goalkeeper            1230            13   \n",
       "1  Vinícius Júnior  Real Madrid     Forward            1199            13   \n",
       "2          Benzema  Real Madrid     Forward            1106            12   \n",
       "3           Modrić  Real Madrid  Midfielder            1077            13   \n",
       "4     Éder Militão  Real Madrid    Defender            1076            12   \n",
       "5            Alaba  Real Madrid    Defender            1040            12   \n",
       "6         Carvajal  Real Madrid    Defender             959            11   \n",
       "7         Casemiro  Real Madrid  Midfielder             914            11   \n",
       "8            Kroos  Real Madrid  Midfielder             902            12   \n",
       "9            Mendy  Real Madrid    Defender             867            10   \n",
       "\n",
       "   goals  assists distance_covered  \n",
       "0      0        0             64.2  \n",
       "1      4        6            133.0  \n",
       "2     15        1            121.5  \n",
       "3      0        4            124.5  \n",
       "4      0        0            110.4  \n",
       "5      1        0            112.3  \n",
       "6      0        1            112.8  \n",
       "7      0        0            107.6  \n",
       "8      2        0            116.5  \n",
       "9      0        2             96.3  "
      ]
     },
     "execution_count": 7,
     "metadata": {},
     "output_type": "execute_result"
    }
   ],
   "source": [
    "key_stats.head(10) # View first 10 rows"
   ]
  },
  {
   "cell_type": "code",
   "execution_count": 8,
   "id": "41c028f4",
   "metadata": {},
   "outputs": [
    {
     "data": {
      "text/html": [
       "<div>\n",
       "<style scoped>\n",
       "    .dataframe tbody tr th:only-of-type {\n",
       "        vertical-align: middle;\n",
       "    }\n",
       "\n",
       "    .dataframe tbody tr th {\n",
       "        vertical-align: top;\n",
       "    }\n",
       "\n",
       "    .dataframe thead th {\n",
       "        text-align: right;\n",
       "    }\n",
       "</style>\n",
       "<table border=\"1\" class=\"dataframe\">\n",
       "  <thead>\n",
       "    <tr style=\"text-align: right;\">\n",
       "      <th></th>\n",
       "      <th>player_name</th>\n",
       "      <th>club</th>\n",
       "      <th>position</th>\n",
       "      <th>minutes_played</th>\n",
       "      <th>match_played</th>\n",
       "      <th>goals</th>\n",
       "      <th>assists</th>\n",
       "      <th>distance_covered</th>\n",
       "    </tr>\n",
       "  </thead>\n",
       "  <tbody>\n",
       "    <tr>\n",
       "      <th>742</th>\n",
       "      <td>Gil Dias</td>\n",
       "      <td>Benfica</td>\n",
       "      <td>Midfielder</td>\n",
       "      <td>1</td>\n",
       "      <td>1</td>\n",
       "      <td>0</td>\n",
       "      <td>0</td>\n",
       "      <td>0.7</td>\n",
       "    </tr>\n",
       "    <tr>\n",
       "      <th>743</th>\n",
       "      <td>Rodrigo Ribeiro</td>\n",
       "      <td>Sporting CP</td>\n",
       "      <td>Forward</td>\n",
       "      <td>1</td>\n",
       "      <td>1</td>\n",
       "      <td>0</td>\n",
       "      <td>0</td>\n",
       "      <td>0.7</td>\n",
       "    </tr>\n",
       "    <tr>\n",
       "      <th>744</th>\n",
       "      <td>Cojocari</td>\n",
       "      <td>Sheriff</td>\n",
       "      <td>Defender</td>\n",
       "      <td>1</td>\n",
       "      <td>1</td>\n",
       "      <td>0</td>\n",
       "      <td>0</td>\n",
       "      <td>0.5</td>\n",
       "    </tr>\n",
       "    <tr>\n",
       "      <th>745</th>\n",
       "      <td>Maouassa</td>\n",
       "      <td>Club Brugge</td>\n",
       "      <td>Defender</td>\n",
       "      <td>1</td>\n",
       "      <td>1</td>\n",
       "      <td>0</td>\n",
       "      <td>0</td>\n",
       "      <td>0.2</td>\n",
       "    </tr>\n",
       "    <tr>\n",
       "      <th>746</th>\n",
       "      <td>Zesiger</td>\n",
       "      <td>Young Boys</td>\n",
       "      <td>Defender</td>\n",
       "      <td>1</td>\n",
       "      <td>1</td>\n",
       "      <td>0</td>\n",
       "      <td>0</td>\n",
       "      <td>-</td>\n",
       "    </tr>\n",
       "  </tbody>\n",
       "</table>\n",
       "</div>"
      ],
      "text/plain": [
       "         player_name         club    position  minutes_played  match_played  \\\n",
       "742         Gil Dias      Benfica  Midfielder               1             1   \n",
       "743  Rodrigo Ribeiro  Sporting CP     Forward               1             1   \n",
       "744         Cojocari      Sheriff    Defender               1             1   \n",
       "745         Maouassa  Club Brugge    Defender               1             1   \n",
       "746          Zesiger   Young Boys    Defender               1             1   \n",
       "\n",
       "     goals  assists distance_covered  \n",
       "742      0        0              0.7  \n",
       "743      0        0              0.7  \n",
       "744      0        0              0.5  \n",
       "745      0        0              0.2  \n",
       "746      0        0                -  "
      ]
     },
     "execution_count": 8,
     "metadata": {},
     "output_type": "execute_result"
    }
   ],
   "source": [
    "key_stats.tail() # View last 5 rows"
   ]
  },
  {
   "cell_type": "markdown",
   "id": "85f4ad56",
   "metadata": {},
   "source": [
    "Conitnuing the exploration and gathering insightful information to better understand the data\n",
    "\n",
    "* describe\n",
    "* shape\n",
    "* columns\n",
    "* unique values"
   ]
  },
  {
   "cell_type": "markdown",
   "id": "80ee710e",
   "metadata": {},
   "source": [
    "Data consists of 747 unique players with an average play time of 331 minutes along and an average number of played matches of 5 games. The average number of goals amongst all players is .49 along with an average of .37 assisted goals "
   ]
  },
  {
   "cell_type": "code",
   "execution_count": 9,
   "id": "1fc5cace",
   "metadata": {},
   "outputs": [
    {
     "data": {
      "text/html": [
       "<div>\n",
       "<style scoped>\n",
       "    .dataframe tbody tr th:only-of-type {\n",
       "        vertical-align: middle;\n",
       "    }\n",
       "\n",
       "    .dataframe tbody tr th {\n",
       "        vertical-align: top;\n",
       "    }\n",
       "\n",
       "    .dataframe thead th {\n",
       "        text-align: right;\n",
       "    }\n",
       "</style>\n",
       "<table border=\"1\" class=\"dataframe\">\n",
       "  <thead>\n",
       "    <tr style=\"text-align: right;\">\n",
       "      <th></th>\n",
       "      <th>count</th>\n",
       "      <th>mean</th>\n",
       "      <th>std</th>\n",
       "      <th>min</th>\n",
       "      <th>25%</th>\n",
       "      <th>50%</th>\n",
       "      <th>75%</th>\n",
       "      <th>max</th>\n",
       "    </tr>\n",
       "  </thead>\n",
       "  <tbody>\n",
       "    <tr>\n",
       "      <th>minutes_played</th>\n",
       "      <td>747.0</td>\n",
       "      <td>331.611780</td>\n",
       "      <td>248.371930</td>\n",
       "      <td>1.0</td>\n",
       "      <td>116.0</td>\n",
       "      <td>301.0</td>\n",
       "      <td>492.0</td>\n",
       "      <td>1230.0</td>\n",
       "    </tr>\n",
       "    <tr>\n",
       "      <th>match_played</th>\n",
       "      <td>747.0</td>\n",
       "      <td>5.089692</td>\n",
       "      <td>2.721425</td>\n",
       "      <td>1.0</td>\n",
       "      <td>3.0</td>\n",
       "      <td>5.0</td>\n",
       "      <td>7.0</td>\n",
       "      <td>13.0</td>\n",
       "    </tr>\n",
       "    <tr>\n",
       "      <th>goals</th>\n",
       "      <td>747.0</td>\n",
       "      <td>0.492637</td>\n",
       "      <td>1.313321</td>\n",
       "      <td>0.0</td>\n",
       "      <td>0.0</td>\n",
       "      <td>0.0</td>\n",
       "      <td>0.0</td>\n",
       "      <td>15.0</td>\n",
       "    </tr>\n",
       "    <tr>\n",
       "      <th>assists</th>\n",
       "      <td>747.0</td>\n",
       "      <td>0.376171</td>\n",
       "      <td>0.845502</td>\n",
       "      <td>0.0</td>\n",
       "      <td>0.0</td>\n",
       "      <td>0.0</td>\n",
       "      <td>0.0</td>\n",
       "      <td>7.0</td>\n",
       "    </tr>\n",
       "  </tbody>\n",
       "</table>\n",
       "</div>"
      ],
      "text/plain": [
       "                count        mean         std  min    25%    50%    75%  \\\n",
       "minutes_played  747.0  331.611780  248.371930  1.0  116.0  301.0  492.0   \n",
       "match_played    747.0    5.089692    2.721425  1.0    3.0    5.0    7.0   \n",
       "goals           747.0    0.492637    1.313321  0.0    0.0    0.0    0.0   \n",
       "assists         747.0    0.376171    0.845502  0.0    0.0    0.0    0.0   \n",
       "\n",
       "                   max  \n",
       "minutes_played  1230.0  \n",
       "match_played      13.0  \n",
       "goals             15.0  \n",
       "assists            7.0  "
      ]
     },
     "execution_count": 9,
     "metadata": {},
     "output_type": "execute_result"
    }
   ],
   "source": [
    "key_stats.describe().T # Statistical Info."
   ]
  },
  {
   "cell_type": "markdown",
   "id": "ce6ec695",
   "metadata": {},
   "source": [
    "Among the data the most common name is Martínez, and the most common position is the Midfielder position. The most frequent distance covered was 3.6."
   ]
  },
  {
   "cell_type": "code",
   "execution_count": 10,
   "id": "eb7ac2c1",
   "metadata": {},
   "outputs": [
    {
     "data": {
      "text/html": [
       "<div>\n",
       "<style scoped>\n",
       "    .dataframe tbody tr th:only-of-type {\n",
       "        vertical-align: middle;\n",
       "    }\n",
       "\n",
       "    .dataframe tbody tr th {\n",
       "        vertical-align: top;\n",
       "    }\n",
       "\n",
       "    .dataframe thead th {\n",
       "        text-align: right;\n",
       "    }\n",
       "</style>\n",
       "<table border=\"1\" class=\"dataframe\">\n",
       "  <thead>\n",
       "    <tr style=\"text-align: right;\">\n",
       "      <th></th>\n",
       "      <th>count</th>\n",
       "      <th>unique</th>\n",
       "      <th>top</th>\n",
       "      <th>freq</th>\n",
       "    </tr>\n",
       "  </thead>\n",
       "  <tbody>\n",
       "    <tr>\n",
       "      <th>player_name</th>\n",
       "      <td>747</td>\n",
       "      <td>731</td>\n",
       "      <td>Martínez</td>\n",
       "      <td>3</td>\n",
       "    </tr>\n",
       "    <tr>\n",
       "      <th>club</th>\n",
       "      <td>747</td>\n",
       "      <td>32</td>\n",
       "      <td>Man. United</td>\n",
       "      <td>31</td>\n",
       "    </tr>\n",
       "    <tr>\n",
       "      <th>position</th>\n",
       "      <td>747</td>\n",
       "      <td>4</td>\n",
       "      <td>Midfielder</td>\n",
       "      <td>287</td>\n",
       "    </tr>\n",
       "    <tr>\n",
       "      <th>distance_covered</th>\n",
       "      <td>747</td>\n",
       "      <td>514</td>\n",
       "      <td>3.6</td>\n",
       "      <td>5</td>\n",
       "    </tr>\n",
       "  </tbody>\n",
       "</table>\n",
       "</div>"
      ],
      "text/plain": [
       "                 count unique          top freq\n",
       "player_name        747    731     Martínez    3\n",
       "club               747     32  Man. United   31\n",
       "position           747      4   Midfielder  287\n",
       "distance_covered   747    514          3.6    5"
      ]
     },
     "execution_count": 10,
     "metadata": {},
     "output_type": "execute_result"
    }
   ],
   "source": [
    "key_stats.describe(include=['object']).T"
   ]
  },
  {
   "cell_type": "markdown",
   "id": "c52b24fd",
   "metadata": {},
   "source": [
    "The data's dimensions are made up of 747 rows & 8 columns"
   ]
  },
  {
   "cell_type": "code",
   "execution_count": 11,
   "id": "1962d99b",
   "metadata": {},
   "outputs": [
    {
     "data": {
      "text/plain": [
       "(747, 8)"
      ]
     },
     "execution_count": 11,
     "metadata": {},
     "output_type": "execute_result"
    }
   ],
   "source": [
    "key_stats.shape # (rows, columns)"
   ]
  },
  {
   "cell_type": "markdown",
   "id": "664ac775",
   "metadata": {},
   "source": [
    "The columns' exact names are player_name, club, position, minutes_played, match_played, goals, assists, distance_covered"
   ]
  },
  {
   "cell_type": "code",
   "execution_count": 12,
   "id": "ccf56ae5",
   "metadata": {},
   "outputs": [
    {
     "data": {
      "text/plain": [
       "Index(['player_name', 'club', 'position', 'minutes_played', 'match_played',\n",
       "       'goals', 'assists', 'distance_covered'],\n",
       "      dtype='object')"
      ]
     },
     "execution_count": 12,
     "metadata": {},
     "output_type": "execute_result"
    }
   ],
   "source": [
    "key_stats.columns # Names of df columns"
   ]
  },
  {
   "cell_type": "markdown",
   "id": "7b617cfa",
   "metadata": {},
   "source": [
    "The number of unique values tells us that 32 teams make up the data, 731 out of the 747 players have unique names with the difference explained by players having the same name and there are a total of 4 unique player positions."
   ]
  },
  {
   "cell_type": "code",
   "execution_count": 13,
   "id": "9cdb8435",
   "metadata": {},
   "outputs": [
    {
     "data": {
      "text/plain": [
       "player_name         731\n",
       "club                 32\n",
       "position              4\n",
       "minutes_played      424\n",
       "match_played         13\n",
       "goals                12\n",
       "assists               8\n",
       "distance_covered    514\n",
       "dtype: int64"
      ]
     },
     "execution_count": 13,
     "metadata": {},
     "output_type": "execute_result"
    }
   ],
   "source": [
    "key_stats.nunique() # Number of unique values with columns"
   ]
  },
  {
   "cell_type": "markdown",
   "id": "85a4d89e",
   "metadata": {},
   "source": [
    "**Clubs that made the EUFA CL 2021-22 Tournament**"
   ]
  },
  {
   "cell_type": "code",
   "execution_count": 14,
   "id": "93ea01c6",
   "metadata": {},
   "outputs": [
    {
     "data": {
      "text/plain": [
       "array(['Real Madrid', 'Liverpool', 'Villarreal', 'Man. City', 'Benfica',\n",
       "       'Atlético', 'Bayern', 'Chelsea', 'LOSC', 'Inter', 'Salzburg',\n",
       "       'Ajax', 'Paris', 'Sporting CP', 'Juventus', 'Man. United',\n",
       "       'Club Brugge', 'Sheriff', 'Wolfsburg', 'Dynamo Kyiv', 'Sevilla',\n",
       "       'Shakhtar Donetsk', 'Zenit', 'Dortmund', 'Atalanta', 'Porto',\n",
       "       'Barcelona', 'Young Boys', 'Leipzig', 'Malmö', 'Milan', 'Beşiktaş'],\n",
       "      dtype=object)"
      ]
     },
     "execution_count": 14,
     "metadata": {},
     "output_type": "execute_result"
    }
   ],
   "source": [
    "key_stats['club'].unique() # Names of clubs among key stats"
   ]
  },
  {
   "cell_type": "markdown",
   "id": "c5fcc22e",
   "metadata": {},
   "source": [
    "**Player positions**"
   ]
  },
  {
   "cell_type": "code",
   "execution_count": 15,
   "id": "ad8de8a6",
   "metadata": {},
   "outputs": [
    {
     "data": {
      "text/plain": [
       "array(['Goalkeeper', 'Forward', 'Midfielder', 'Defender'], dtype=object)"
      ]
     },
     "execution_count": 15,
     "metadata": {},
     "output_type": "execute_result"
    }
   ],
   "source": [
    "key_stats['position'].unique() # Player positions among key stats"
   ]
  },
  {
   "cell_type": "markdown",
   "id": "84988e21",
   "metadata": {},
   "source": [
    "**Locate missing values if any and remove column if more than 5% of data is null or missing**\n"
   ]
  },
  {
   "cell_type": "code",
   "execution_count": 16,
   "id": "3f2e024a",
   "metadata": {},
   "outputs": [
    {
     "name": "stdout",
     "output_type": "stream",
     "text": [
      "player_name : 0.0%\n",
      "club : 0.0%\n",
      "position : 0.0%\n",
      "minutes_played : 0.0%\n",
      "match_played : 0.0%\n",
      "goals : 0.0%\n",
      "assists : 0.0%\n",
      "distance_covered : 0.0%\n"
     ]
    }
   ],
   "source": [
    "# Locate any missing values if any\n",
    "for col in key_stats.columns:  \n",
    "    pct_missing = np.mean(key_stats[col].isnull())\n",
    "    print('{} : {}%'.format(col, pct_missing))"
   ]
  },
  {
   "cell_type": "markdown",
   "id": "1908fa68",
   "metadata": {},
   "source": [
    "# 4. Insights & Visulization of Key Stats\n",
    "* Total goals scored per club\n",
    "* Matches played per club\n",
    "* Top goal scorers\n",
    "* Average playing time per player"
   ]
  },
  {
   "cell_type": "code",
   "execution_count": 17,
   "id": "c9c653dd",
   "metadata": {},
   "outputs": [
    {
     "data": {
      "text/plain": [
       "[Text(0.5, 0, 'Club'), Text(0, 0.5, 'Goals')]"
      ]
     },
     "execution_count": 17,
     "metadata": {},
     "output_type": "execute_result"
    },
    {
     "data": {
      "image/png": "[encoded data removed]",
      "text/plain": [
       "<Figure size 1080x360 with 1 Axes>"
      ]
     },
     "metadata": {},
     "output_type": "display_data"
    }
   ],
   "source": [
    "ksplt = key_stats.groupby('club',as_index = False)['goals'].sum().sort_values(by='goals', ascending=False) # Organize data frame\n",
    "sns.set(rc = {'figure.figsize':(15,5)}) # Adjust plot size\n",
    "plt.xticks(fontsize=10, rotation='vertical') # Format axis ticks\n",
    "a = sns.barplot(x='club', y='goals', data=ksplt, palette='mako') # Customize and set axis parameters\n",
    "a.axes.set_title('Total Goals per Club', fontsize='20') # Set title\n",
    "a.set(xlabel='Club', ylabel='Goals') # Label x and y axis\n"
   ]
  },
  {
   "cell_type": "markdown",
   "id": "9d81e71b",
   "metadata": {},
   "source": [
    "**Insight:**\n",
    "* Bayern had the most amount of goals amongst its players\n",
    "* Real Madrid who won the tournament came in second \n",
    "* Man. City who finished as a semi-finalist came in third"
   ]
  },
  {
   "cell_type": "code",
   "execution_count": 22,
   "id": "fabb76b8",
   "metadata": {},
   "outputs": [
    {
     "data": {
      "application/vnd.plotly.v1+json": {
       "config": {
        "plotlyServerURL": "https://plot.ly"
       },
       "data": [
        {
         "branchvalues": "total",
         "customdata": [
          [
           8
          ],
          [
           6
          ],
          [
           10
          ],
          [
           6
          ],
          [
           10
          ],
          [
           10
          ],
          [
           5
          ],
          [
           9
          ],
          [
           6
          ],
          [
           6
          ],
          [
           6
          ],
          [
           8
          ],
          [
           7
          ],
          [
           10
          ],
          [
           6
          ],
          [
           13
          ],
          [
           6
          ],
          [
           12
          ],
          [
           8
          ],
          [
           6
          ],
          [
           8
          ],
          [
           6
          ],
          [
           13
          ],
          [
           8
          ],
          [
           6
          ],
          [
           6
          ],
          [
           6
          ],
          [
           8
          ],
          [
           12
          ],
          [
           6
          ],
          [
           6
          ],
          [
           6
          ]
         ],
         "domain": {
          "x": [
           0,
           1
          ],
          "y": [
           0,
           1
          ]
         },
         "hovertemplate": "labels=%{label}<br>match_played_sum=%{value}<br>parent=%{parent}<br>id=%{id}<br>match_played=%{color}<extra></extra>",
         "ids": [
          "Ajax",
          "Atalanta",
          "Atlético",
          "Barcelona",
          "Bayern",
          "Benfica",
          "Beşiktaş",
          "Chelsea",
          "Club Brugge",
          "Dortmund",
          "Dynamo Kyiv",
          "Inter",
          "Juventus",
          "LOSC",
          "Leipzig",
          "Liverpool",
          "Malmö",
          "Man. City",
          "Man. United",
          "Milan",
          "Paris",
          "Porto",
          "Real Madrid",
          "Salzburg",
          "Sevilla",
          "Shakhtar Donetsk",
          "Sheriff",
          "Sporting CP",
          "Villarreal",
          "Wolfsburg",
          "Young Boys",
          "Zenit"
         ],
         "labels": [
          "Ajax",
          "Atalanta",
          "Atlético",
          "Barcelona",
          "Bayern",
          "Benfica",
          "Beşiktaş",
          "Chelsea",
          "Club Brugge",
          "Dortmund",
          "Dynamo Kyiv",
          "Inter",
          "Juventus",
          "LOSC",
          "Leipzig",
          "Liverpool",
          "Malmö",
          "Man. City",
          "Man. United",
          "Milan",
          "Paris",
          "Porto",
          "Real Madrid",
          "Salzburg",
          "Sevilla",
          "Shakhtar Donetsk",
          "Sheriff",
          "Sporting CP",
          "Villarreal",
          "Wolfsburg",
          "Young Boys",
          "Zenit"
         ],
         "marker": {
          "coloraxis": "coloraxis",
          "colors": [
           8,
           6,
           10,
           6,
           10,
           10,
           5,
           9,
           6,
           6,
           6,
           8,
           7,
           10,
           6,
           13,
           6,
           12,
           8,
           6,
           8,
           6,
           13,
           8,
           6,
           6,
           6,
           8,
           12,
           6,
           6,
           6
          ]
         },
         "name": "",
         "parents": [
          "",
          "",
          "",
          "",
          "",
          "",
          "",
          "",
          "",
          "",
          "",
          "",
          "",
          "",
          "",
          "",
          "",
          "",
          "",
          "",
          "",
          "",
          "",
          "",
          "",
          "",
          "",
          "",
          "",
          "",
          "",
          ""
         ],
         "type": "treemap",
         "values": [
          8,
          6,
          10,
          6,
          10,
          10,
          5,
          9,
          6,
          6,
          6,
          8,
          7,
          10,
          6,
          13,
          6,
          12,
          8,
          6,
          8,
          6,
          13,
          8,
          6,
          6,
          6,
          8,
          12,
          6,
          6,
          6
         ]
        }
       ],
       "layout": {
        "coloraxis": {
         "colorbar": {
          "title": {
           "text": "match_played"
          }
         },
         "colorscale": [
          [
           0,
           "rgb(253, 253, 204)"
          ],
          [
           0.09090909090909091,
           "rgb(206, 236, 179)"
          ],
          [
           0.18181818181818182,
           "rgb(156, 219, 165)"
          ],
          [
           0.2727272727272727,
           "rgb(111, 201, 163)"
          ],
          [
           0.36363636363636365,
           "rgb(86, 177, 163)"
          ],
          [
           0.45454545454545453,
           "rgb(76, 153, 160)"
          ],
          [
           0.5454545454545454,
           "rgb(68, 130, 155)"
          ],
          [
           0.6363636363636364,
           "rgb(62, 108, 150)"
          ],
          [
           0.7272727272727273,
           "rgb(62, 82, 143)"
          ],
          [
           0.8181818181818182,
           "rgb(64, 60, 115)"
          ],
          [
           0.9090909090909091,
           "rgb(54, 43, 77)"
          ],
          [
           1,
           "rgb(39, 26, 44)"
          ]
         ]
        },
        "height": 500,
        "legend": {
         "tracegroupgap": 0
        },
        "margin": {
         "b": 25,
         "l": 25,
         "r": 25,
         "t": 50
        },
        "template": {
         "data": {
          "bar": [
           {
            "error_x": {
             "color": "#2a3f5f"
            },
            "error_y": {
             "color": "#2a3f5f"
            },
            "marker": {
             "line": {
              "color": "#E5ECF6",
              "width": 0.5
             },
             "pattern": {
              "fillmode": "overlay",
              "size": 10,
              "solidity": 0.2
             }
            },
            "type": "bar"
           }
          ],
          "barpolar": [
           {
            "marker": {
             "line": {
              "color": "#E5ECF6",
              "width": 0.5
             },
             "pattern": {
              "fillmode": "overlay",
              "size": 10,
              "solidity": 0.2
             }
            },
            "type": "barpolar"
           }
          ],
          "carpet": [
           {
            "aaxis": {
             "endlinecolor": "#2a3f5f",
             "gridcolor": "white",
             "linecolor": "white",
             "minorgridcolor": "white",
             "startlinecolor": "#2a3f5f"
            },
            "baxis": {
             "endlinecolor": "#2a3f5f",
             "gridcolor": "white",
             "linecolor": "white",
             "minorgridcolor": "white",
             "startlinecolor": "#2a3f5f"
            },
            "type": "carpet"
           }
          ],
          "choropleth": [
           {
            "colorbar": {
             "outlinewidth": 0,
             "ticks": ""
            },
            "type": "choropleth"
           }
          ],
          "contour": [
           {
            "colorbar": {
             "outlinewidth": 0,
             "ticks": ""
            },
            "colorscale": [
             [
              0,
              "#0d0887"
             ],
             [
              0.1111111111111111,
              "#46039f"
             ],
             [
              0.2222222222222222,
              "#7201a8"
             ],
             [
              0.3333333333333333,
              "#9c179e"
             ],
             [
              0.4444444444444444,
              "#bd3786"
             ],
             [
              0.5555555555555556,
              "#d8576b"
             ],
             [
              0.6666666666666666,
              "#ed7953"
             ],
             [
              0.7777777777777778,
              "#fb9f3a"
             ],
             [
              0.8888888888888888,
              "#fdca26"
             ],
             [
              1,
              "#f0f921"
             ]
            ],
            "type": "contour"
           }
          ],
          "contourcarpet": [
           {
            "colorbar": {
             "outlinewidth": 0,
             "ticks": ""
            },
            "type": "contourcarpet"
           }
          ],
          "heatmap": [
           {
            "colorbar": {
             "outlinewidth": 0,
             "ticks": ""
            },
            "colorscale": [
             [
              0,
              "#0d0887"
             ],
             [
              0.1111111111111111,
              "#46039f"
             ],
             [
              0.2222222222222222,
              "#7201a8"
             ],
             [
              0.3333333333333333,
              "#9c179e"
             ],
             [
              0.4444444444444444,
              "#bd3786"
             ],
             [
              0.5555555555555556,
              "#d8576b"
             ],
             [
              0.6666666666666666,
              "#ed7953"
             ],
             [
              0.7777777777777778,
              "#fb9f3a"
             ],
             [
              0.8888888888888888,
              "#fdca26"
             ],
             [
              1,
              "#f0f921"
             ]
            ],
            "type": "heatmap"
           }
          ],
          "heatmapgl": [
           {
            "colorbar": {
             "outlinewidth": 0,
             "ticks": ""
            },
            "colorscale": [
             [
              0,
              "#0d0887"
             ],
             [
              0.1111111111111111,
              "#46039f"
             ],
             [
              0.2222222222222222,
              "#7201a8"
             ],
             [
              0.3333333333333333,
              "#9c179e"
             ],
             [
              0.4444444444444444,
              "#bd3786"
             ],
             [
              0.5555555555555556,
              "#d8576b"
             ],
             [
              0.6666666666666666,
              "#ed7953"
             ],
             [
              0.7777777777777778,
              "#fb9f3a"
             ],
             [
              0.8888888888888888,
              "#fdca26"
             ],
             [
              1,
              "#f0f921"
             ]
            ],
            "type": "heatmapgl"
           }
          ],
          "histogram": [
           {
            "marker": {
             "pattern": {
              "fillmode": "overlay",
              "size": 10,
              "solidity": 0.2
             }
            },
            "type": "histogram"
           }
          ],
          "histogram2d": [
           {
            "colorbar": {
             "outlinewidth": 0,
             "ticks": ""
            },
            "colorscale": [
             [
              0,
              "#0d0887"
             ],
             [
              0.1111111111111111,
              "#46039f"
             ],
             [
              0.2222222222222222,
              "#7201a8"
             ],
             [
              0.3333333333333333,
              "#9c179e"
             ],
             [
              0.4444444444444444,
              "#bd3786"
             ],
             [
              0.5555555555555556,
              "#d8576b"
             ],
             [
              0.6666666666666666,
              "#ed7953"
             ],
             [
              0.7777777777777778,
              "#fb9f3a"
             ],
             [
              0.8888888888888888,
              "#fdca26"
             ],
             [
              1,
              "#f0f921"
             ]
            ],
            "type": "histogram2d"
           }
          ],
          "histogram2dcontour": [
           {
            "colorbar": {
             "outlinewidth": 0,
             "ticks": ""
            },
            "colorscale": [
             [
              0,
              "#0d0887"
             ],
             [
              0.1111111111111111,
              "#46039f"
             ],
             [
              0.2222222222222222,
              "#7201a8"
             ],
             [
              0.3333333333333333,
              "#9c179e"
             ],
             [
              0.4444444444444444,
              "#bd3786"
             ],
             [
              0.5555555555555556,
              "#d8576b"
             ],
             [
              0.6666666666666666,
              "#ed7953"
             ],
             [
              0.7777777777777778,
              "#fb9f3a"
             ],
             [
              0.8888888888888888,
              "#fdca26"
             ],
             [
              1,
              "#f0f921"
             ]
            ],
            "type": "histogram2dcontour"
           }
          ],
          "mesh3d": [
           {
            "colorbar": {
             "outlinewidth": 0,
             "ticks": ""
            },
            "type": "mesh3d"
           }
          ],
          "parcoords": [
           {
            "line": {
             "colorbar": {
              "outlinewidth": 0,
              "ticks": ""
             }
            },
            "type": "parcoords"
           }
          ],
          "pie": [
           {
            "automargin": true,
            "type": "pie"
           }
          ],
          "scatter": [
           {
            "marker": {
             "colorbar": {
              "outlinewidth": 0,
              "ticks": ""
             }
            },
            "type": "scatter"
           }
          ],
          "scatter3d": [
           {
            "line": {
             "colorbar": {
              "outlinewidth": 0,
              "ticks": ""
             }
            },
            "marker": {
             "colorbar": {
              "outlinewidth": 0,
              "ticks": ""
             }
            },
            "type": "scatter3d"
           }
          ],
          "scattercarpet": [
           {
            "marker": {
             "colorbar": {
              "outlinewidth": 0,
              "ticks": ""
             }
            },
            "type": "scattercarpet"
           }
          ],
          "scattergeo": [
           {
            "marker": {
             "colorbar": {
              "outlinewidth": 0,
              "ticks": ""
             }
            },
            "type": "scattergeo"
           }
          ],
          "scattergl": [
           {
            "marker": {
             "colorbar": {
              "outlinewidth": 0,
              "ticks": ""
             }
            },
            "type": "scattergl"
           }
          ],
          "scattermapbox": [
           {
            "marker": {
             "colorbar": {
              "outlinewidth": 0,
              "ticks": ""
             }
            },
            "type": "scattermapbox"
           }
          ],
          "scatterpolar": [
           {
            "marker": {
             "colorbar": {
              "outlinewidth": 0,
              "ticks": ""
             }
            },
            "type": "scatterpolar"
           }
          ],
          "scatterpolargl": [
           {
            "marker": {
             "colorbar": {
              "outlinewidth": 0,
              "ticks": ""
             }
            },
            "type": "scatterpolargl"
           }
          ],
          "scatterternary": [
           {
            "marker": {
             "colorbar": {
              "outlinewidth": 0,
              "ticks": ""
             }
            },
            "type": "scatterternary"
           }
          ],
          "surface": [
           {
            "colorbar": {
             "outlinewidth": 0,
             "ticks": ""
            },
            "colorscale": [
             [
              0,
              "#0d0887"
             ],
             [
              0.1111111111111111,
              "#46039f"
             ],
             [
              0.2222222222222222,
              "#7201a8"
             ],
             [
              0.3333333333333333,
              "#9c179e"
             ],
             [
              0.4444444444444444,
              "#bd3786"
             ],
             [
              0.5555555555555556,
              "#d8576b"
             ],
             [
              0.6666666666666666,
              "#ed7953"
             ],
             [
              0.7777777777777778,
              "#fb9f3a"
             ],
             [
              0.8888888888888888,
              "#fdca26"
             ],
             [
              1,
              "#f0f921"
             ]
            ],
            "type": "surface"
           }
          ],
          "table": [
           {
            "cells": {
             "fill": {
              "color": "#EBF0F8"
             },
             "line": {
              "color": "white"
             }
            },
            "header": {
             "fill": {
              "color": "#C8D4E3"
             },
             "line": {
              "color": "white"
             }
            },
            "type": "table"
           }
          ]
         },
         "layout": {
          "annotationdefaults": {
           "arrowcolor": "#2a3f5f",
           "arrowhead": 0,
           "arrowwidth": 1
          },
          "autotypenumbers": "strict",
          "coloraxis": {
           "colorbar": {
            "outlinewidth": 0,
            "ticks": ""
           }
          },
          "colorscale": {
           "diverging": [
            [
             0,
             "#8e0152"
            ],
            [
             0.1,
             "#c51b7d"
            ],
            [
             0.2,
             "#de77ae"
            ],
            [
             0.3,
             "#f1b6da"
            ],
            [
             0.4,
             "#fde0ef"
            ],
            [
             0.5,
             "#f7f7f7"
            ],
            [
             0.6,
             "#e6f5d0"
            ],
            [
             0.7,
             "#b8e186"
            ],
            [
             0.8,
             "#7fbc41"
            ],
            [
             0.9,
             "#4d9221"
            ],
            [
             1,
             "#276419"
            ]
           ],
           "sequential": [
            [
             0,
             "#0d0887"
            ],
            [
             0.1111111111111111,
             "#46039f"
            ],
            [
             0.2222222222222222,
             "#7201a8"
            ],
            [
             0.3333333333333333,
             "#9c179e"
            ],
            [
             0.4444444444444444,
             "#bd3786"
            ],
            [
             0.5555555555555556,
             "#d8576b"
            ],
            [
             0.6666666666666666,
             "#ed7953"
            ],
            [
             0.7777777777777778,
             "#fb9f3a"
            ],
            [
             0.8888888888888888,
             "#fdca26"
            ],
            [
             1,
             "#f0f921"
            ]
           ],
           "sequentialminus": [
            [
             0,
             "#0d0887"
            ],
            [
             0.1111111111111111,
             "#46039f"
            ],
            [
             0.2222222222222222,
             "#7201a8"
            ],
            [
             0.3333333333333333,
             "#9c179e"
            ],
            [
             0.4444444444444444,
             "#bd3786"
            ],
            [
             0.5555555555555556,
             "#d8576b"
            ],
            [
             0.6666666666666666,
             "#ed7953"
            ],
            [
             0.7777777777777778,
             "#fb9f3a"
            ],
            [
             0.8888888888888888,
             "#fdca26"
            ],
            [
             1,
             "#f0f921"
            ]
           ]
          },
          "colorway": [
           "#636efa",
           "#EF553B",
           "#00cc96",
           "#ab63fa",
           "#FFA15A",
           "#19d3f3",
           "#FF6692",
           "#B6E880",
           "#FF97FF",
           "#FECB52"
          ],
          "font": {
           "color": "#2a3f5f"
          },
          "geo": {
           "bgcolor": "white",
           "lakecolor": "white",
           "landcolor": "#E5ECF6",
           "showlakes": true,
           "showland": true,
           "subunitcolor": "white"
          },
          "hoverlabel": {
           "align": "left"
          },
          "hovermode": "closest",
          "mapbox": {
           "style": "light"
          },
          "paper_bgcolor": "white",
          "plot_bgcolor": "#E5ECF6",
          "polar": {
           "angularaxis": {
            "gridcolor": "white",
            "linecolor": "white",
            "ticks": ""
           },
           "bgcolor": "#E5ECF6",
           "radialaxis": {
            "gridcolor": "white",
            "linecolor": "white",
            "ticks": ""
           }
          },
          "scene": {
           "xaxis": {
            "backgroundcolor": "#E5ECF6",
            "gridcolor": "white",
            "gridwidth": 2,
            "linecolor": "white",
            "showbackground": true,
            "ticks": "",
            "zerolinecolor": "white"
           },
           "yaxis": {
            "backgroundcolor": "#E5ECF6",
            "gridcolor": "white",
            "gridwidth": 2,
            "linecolor": "white",
            "showbackground": true,
            "ticks": "",
            "zerolinecolor": "white"
           },
           "zaxis": {
            "backgroundcolor": "#E5ECF6",
            "gridcolor": "white",
            "gridwidth": 2,
            "linecolor": "white",
            "showbackground": true,
            "ticks": "",
            "zerolinecolor": "white"
           }
          },
          "shapedefaults": {
           "line": {
            "color": "#2a3f5f"
           }
          },
          "ternary": {
           "aaxis": {
            "gridcolor": "white",
            "linecolor": "white",
            "ticks": ""
           },
           "baxis": {
            "gridcolor": "white",
            "linecolor": "white",
            "ticks": ""
           },
           "bgcolor": "#E5ECF6",
           "caxis": {
            "gridcolor": "white",
            "linecolor": "white",
            "ticks": ""
           }
          },
          "title": {
           "x": 0.05
          },
          "xaxis": {
           "automargin": true,
           "gridcolor": "white",
           "linecolor": "white",
           "ticks": "",
           "title": {
            "standoff": 15
           },
           "zerolinecolor": "white",
           "zerolinewidth": 2
          },
          "yaxis": {
           "automargin": true,
           "gridcolor": "white",
           "linecolor": "white",
           "ticks": "",
           "title": {
            "standoff": 15
           },
           "zerolinecolor": "white",
           "zerolinewidth": 2
          }
         }
        },
        "title": {
         "text": "Matches Played per Club",
         "x": 0.5
        },
        "width": 1000
       }
      },
      "text/html": [
       "<div>                            <div id=\"49f421c0-1e7c-4936-80c1-6d5fa7c0ebc7\" class=\"plotly-graph-div\" style=\"height:500px; width:1000px;\"></div>            <script type=\"text/javascript\">                require([\"plotly\"], function(Plotly) {                    window.PLOTLYENV=window.PLOTLYENV || {};                                    if (document.getElementById(\"49f421c0-1e7c-4936-80c1-6d5fa7c0ebc7\")) {                    Plotly.newPlot(                        \"49f421c0-1e7c-4936-80c1-6d5fa7c0ebc7\",                        [{\"branchvalues\":\"total\",\"customdata\":[[8.0],[6.0],[10.0],[6.0],[10.0],[10.0],[5.0],[9.0],[6.0],[6.0],[6.0],[8.0],[7.0],[10.0],[6.0],[13.0],[6.0],[12.0],[8.0],[6.0],[8.0],[6.0],[13.0],[8.0],[6.0],[6.0],[6.0],[8.0],[12.0],[6.0],[6.0],[6.0]],\"domain\":{\"x\":[0.0,1.0],\"y\":[0.0,1.0]},\"hovertemplate\":\"labels=%{label}<br>match_played_sum=%{value}<br>parent=%{parent}<br>id=%{id}<br>match_played=%{color}<extra></extra>\",\"ids\":[\"Ajax\",\"Atalanta\",\"Atl\\u00e9tico\",\"Barcelona\",\"Bayern\",\"Benfica\",\"Be\\u015fikta\\u015f\",\"Chelsea\",\"Club Brugge\",\"Dortmund\",\"Dynamo Kyiv\",\"Inter\",\"Juventus\",\"LOSC\",\"Leipzig\",\"Liverpool\",\"Malm\\u00f6\",\"Man. City\",\"Man. United\",\"Milan\",\"Paris\",\"Porto\",\"Real Madrid\",\"Salzburg\",\"Sevilla\",\"Shakhtar Donetsk\",\"Sheriff\",\"Sporting CP\",\"Villarreal\",\"Wolfsburg\",\"Young Boys\",\"Zenit\"],\"labels\":[\"Ajax\",\"Atalanta\",\"Atl\\u00e9tico\",\"Barcelona\",\"Bayern\",\"Benfica\",\"Be\\u015fikta\\u015f\",\"Chelsea\",\"Club Brugge\",\"Dortmund\",\"Dynamo Kyiv\",\"Inter\",\"Juventus\",\"LOSC\",\"Leipzig\",\"Liverpool\",\"Malm\\u00f6\",\"Man. City\",\"Man. United\",\"Milan\",\"Paris\",\"Porto\",\"Real Madrid\",\"Salzburg\",\"Sevilla\",\"Shakhtar Donetsk\",\"Sheriff\",\"Sporting CP\",\"Villarreal\",\"Wolfsburg\",\"Young Boys\",\"Zenit\"],\"marker\":{\"coloraxis\":\"coloraxis\",\"colors\":[8.0,6.0,10.0,6.0,10.0,10.0,5.0,9.0,6.0,6.0,6.0,8.0,7.0,10.0,6.0,13.0,6.0,12.0,8.0,6.0,8.0,6.0,13.0,8.0,6.0,6.0,6.0,8.0,12.0,6.0,6.0,6.0]},\"name\":\"\",\"parents\":[\"\",\"\",\"\",\"\",\"\",\"\",\"\",\"\",\"\",\"\",\"\",\"\",\"\",\"\",\"\",\"\",\"\",\"\",\"\",\"\",\"\",\"\",\"\",\"\",\"\",\"\",\"\",\"\",\"\",\"\",\"\",\"\"],\"values\":[8,6,10,6,10,10,5,9,6,6,6,8,7,10,6,13,6,12,8,6,8,6,13,8,6,6,6,8,12,6,6,6],\"type\":\"treemap\"}],                        {\"template\":{\"data\":{\"bar\":[{\"error_x\":{\"color\":\"#2a3f5f\"},\"error_y\":{\"color\":\"#2a3f5f\"},\"marker\":{\"line\":{\"color\":\"#E5ECF6\",\"width\":0.5},\"pattern\":{\"fillmode\":\"overlay\",\"size\":10,\"solidity\":0.2}},\"type\":\"bar\"}],\"barpolar\":[{\"marker\":{\"line\":{\"color\":\"#E5ECF6\",\"width\":0.5},\"pattern\":{\"fillmode\":\"overlay\",\"size\":10,\"solidity\":0.2}},\"type\":\"barpolar\"}],\"carpet\":[{\"aaxis\":{\"endlinecolor\":\"#2a3f5f\",\"gridcolor\":\"white\",\"linecolor\":\"white\",\"minorgridcolor\":\"white\",\"startlinecolor\":\"#2a3f5f\"},\"baxis\":{\"endlinecolor\":\"#2a3f5f\",\"gridcolor\":\"white\",\"linecolor\":\"white\",\"minorgridcolor\":\"white\",\"startlinecolor\":\"#2a3f5f\"},\"type\":\"carpet\"}],\"choropleth\":[{\"colorbar\":{\"outlinewidth\":0,\"ticks\":\"\"},\"type\":\"choropleth\"}],\"contour\":[{\"colorbar\":{\"outlinewidth\":0,\"ticks\":\"\"},\"colorscale\":[[0.0,\"#0d0887\"],[0.1111111111111111,\"#46039f\"],[0.2222222222222222,\"#7201a8\"],[0.3333333333333333,\"#9c179e\"],[0.4444444444444444,\"#bd3786\"],[0.5555555555555556,\"#d8576b\"],[0.6666666666666666,\"#ed7953\"],[0.7777777777777778,\"#fb9f3a\"],[0.8888888888888888,\"#fdca26\"],[1.0,\"#f0f921\"]],\"type\":\"contour\"}],\"contourcarpet\":[{\"colorbar\":{\"outlinewidth\":0,\"ticks\":\"\"},\"type\":\"contourcarpet\"}],\"heatmap\":[{\"colorbar\":{\"outlinewidth\":0,\"ticks\":\"\"},\"colorscale\":[[0.0,\"#0d0887\"],[0.1111111111111111,\"#46039f\"],[0.2222222222222222,\"#7201a8\"],[0.3333333333333333,\"#9c179e\"],[0.4444444444444444,\"#bd3786\"],[0.5555555555555556,\"#d8576b\"],[0.6666666666666666,\"#ed7953\"],[0.7777777777777778,\"#fb9f3a\"],[0.8888888888888888,\"#fdca26\"],[1.0,\"#f0f921\"]],\"type\":\"heatmap\"}],\"heatmapgl\":[{\"colorbar\":{\"outlinewidth\":0,\"ticks\":\"\"},\"colorscale\":[[0.0,\"#0d0887\"],[0.1111111111111111,\"#46039f\"],[0.2222222222222222,\"#7201a8\"],[0.3333333333333333,\"#9c179e\"],[0.4444444444444444,\"#bd3786\"],[0.5555555555555556,\"#d8576b\"],[0.6666666666666666,\"#ed7953\"],[0.7777777777777778,\"#fb9f3a\"],[0.8888888888888888,\"#fdca26\"],[1.0,\"#f0f921\"]],\"type\":\"heatmapgl\"}],\"histogram\":[{\"marker\":{\"pattern\":{\"fillmode\":\"overlay\",\"size\":10,\"solidity\":0.2}},\"type\":\"histogram\"}],\"histogram2d\":[{\"colorbar\":{\"outlinewidth\":0,\"ticks\":\"\"},\"colorscale\":[[0.0,\"#0d0887\"],[0.1111111111111111,\"#46039f\"],[0.2222222222222222,\"#7201a8\"],[0.3333333333333333,\"#9c179e\"],[0.4444444444444444,\"#bd3786\"],[0.5555555555555556,\"#d8576b\"],[0.6666666666666666,\"#ed7953\"],[0.7777777777777778,\"#fb9f3a\"],[0.8888888888888888,\"#fdca26\"],[1.0,\"#f0f921\"]],\"type\":\"histogram2d\"}],\"histogram2dcontour\":[{\"colorbar\":{\"outlinewidth\":0,\"ticks\":\"\"},\"colorscale\":[[0.0,\"#0d0887\"],[0.1111111111111111,\"#46039f\"],[0.2222222222222222,\"#7201a8\"],[0.3333333333333333,\"#9c179e\"],[0.4444444444444444,\"#bd3786\"],[0.5555555555555556,\"#d8576b\"],[0.6666666666666666,\"#ed7953\"],[0.7777777777777778,\"#fb9f3a\"],[0.8888888888888888,\"#fdca26\"],[1.0,\"#f0f921\"]],\"type\":\"histogram2dcontour\"}],\"mesh3d\":[{\"colorbar\":{\"outlinewidth\":0,\"ticks\":\"\"},\"type\":\"mesh3d\"}],\"parcoords\":[{\"line\":{\"colorbar\":{\"outlinewidth\":0,\"ticks\":\"\"}},\"type\":\"parcoords\"}],\"pie\":[{\"automargin\":true,\"type\":\"pie\"}],\"scatter\":[{\"marker\":{\"colorbar\":{\"outlinewidth\":0,\"ticks\":\"\"}},\"type\":\"scatter\"}],\"scatter3d\":[{\"line\":{\"colorbar\":{\"outlinewidth\":0,\"ticks\":\"\"}},\"marker\":{\"colorbar\":{\"outlinewidth\":0,\"ticks\":\"\"}},\"type\":\"scatter3d\"}],\"scattercarpet\":[{\"marker\":{\"colorbar\":{\"outlinewidth\":0,\"ticks\":\"\"}},\"type\":\"scattercarpet\"}],\"scattergeo\":[{\"marker\":{\"colorbar\":{\"outlinewidth\":0,\"ticks\":\"\"}},\"type\":\"scattergeo\"}],\"scattergl\":[{\"marker\":{\"colorbar\":{\"outlinewidth\":0,\"ticks\":\"\"}},\"type\":\"scattergl\"}],\"scattermapbox\":[{\"marker\":{\"colorbar\":{\"outlinewidth\":0,\"ticks\":\"\"}},\"type\":\"scattermapbox\"}],\"scatterpolar\":[{\"marker\":{\"colorbar\":{\"outlinewidth\":0,\"ticks\":\"\"}},\"type\":\"scatterpolar\"}],\"scatterpolargl\":[{\"marker\":{\"colorbar\":{\"outlinewidth\":0,\"ticks\":\"\"}},\"type\":\"scatterpolargl\"}],\"scatterternary\":[{\"marker\":{\"colorbar\":{\"outlinewidth\":0,\"ticks\":\"\"}},\"type\":\"scatterternary\"}],\"surface\":[{\"colorbar\":{\"outlinewidth\":0,\"ticks\":\"\"},\"colorscale\":[[0.0,\"#0d0887\"],[0.1111111111111111,\"#46039f\"],[0.2222222222222222,\"#7201a8\"],[0.3333333333333333,\"#9c179e\"],[0.4444444444444444,\"#bd3786\"],[0.5555555555555556,\"#d8576b\"],[0.6666666666666666,\"#ed7953\"],[0.7777777777777778,\"#fb9f3a\"],[0.8888888888888888,\"#fdca26\"],[1.0,\"#f0f921\"]],\"type\":\"surface\"}],\"table\":[{\"cells\":{\"fill\":{\"color\":\"#EBF0F8\"},\"line\":{\"color\":\"white\"}},\"header\":{\"fill\":{\"color\":\"#C8D4E3\"},\"line\":{\"color\":\"white\"}},\"type\":\"table\"}]},\"layout\":{\"annotationdefaults\":{\"arrowcolor\":\"#2a3f5f\",\"arrowhead\":0,\"arrowwidth\":1},\"autotypenumbers\":\"strict\",\"coloraxis\":{\"colorbar\":{\"outlinewidth\":0,\"ticks\":\"\"}},\"colorscale\":{\"diverging\":[[0,\"#8e0152\"],[0.1,\"#c51b7d\"],[0.2,\"#de77ae\"],[0.3,\"#f1b6da\"],[0.4,\"#fde0ef\"],[0.5,\"#f7f7f7\"],[0.6,\"#e6f5d0\"],[0.7,\"#b8e186\"],[0.8,\"#7fbc41\"],[0.9,\"#4d9221\"],[1,\"#276419\"]],\"sequential\":[[0.0,\"#0d0887\"],[0.1111111111111111,\"#46039f\"],[0.2222222222222222,\"#7201a8\"],[0.3333333333333333,\"#9c179e\"],[0.4444444444444444,\"#bd3786\"],[0.5555555555555556,\"#d8576b\"],[0.6666666666666666,\"#ed7953\"],[0.7777777777777778,\"#fb9f3a\"],[0.8888888888888888,\"#fdca26\"],[1.0,\"#f0f921\"]],\"sequentialminus\":[[0.0,\"#0d0887\"],[0.1111111111111111,\"#46039f\"],[0.2222222222222222,\"#7201a8\"],[0.3333333333333333,\"#9c179e\"],[0.4444444444444444,\"#bd3786\"],[0.5555555555555556,\"#d8576b\"],[0.6666666666666666,\"#ed7953\"],[0.7777777777777778,\"#fb9f3a\"],[0.8888888888888888,\"#fdca26\"],[1.0,\"#f0f921\"]]},\"colorway\":[\"#636efa\",\"#EF553B\",\"#00cc96\",\"#ab63fa\",\"#FFA15A\",\"#19d3f3\",\"#FF6692\",\"#B6E880\",\"#FF97FF\",\"#FECB52\"],\"font\":{\"color\":\"#2a3f5f\"},\"geo\":{\"bgcolor\":\"white\",\"lakecolor\":\"white\",\"landcolor\":\"#E5ECF6\",\"showlakes\":true,\"showland\":true,\"subunitcolor\":\"white\"},\"hoverlabel\":{\"align\":\"left\"},\"hovermode\":\"closest\",\"mapbox\":{\"style\":\"light\"},\"paper_bgcolor\":\"white\",\"plot_bgcolor\":\"#E5ECF6\",\"polar\":{\"angularaxis\":{\"gridcolor\":\"white\",\"linecolor\":\"white\",\"ticks\":\"\"},\"bgcolor\":\"#E5ECF6\",\"radialaxis\":{\"gridcolor\":\"white\",\"linecolor\":\"white\",\"ticks\":\"\"}},\"scene\":{\"xaxis\":{\"backgroundcolor\":\"#E5ECF6\",\"gridcolor\":\"white\",\"gridwidth\":2,\"linecolor\":\"white\",\"showbackground\":true,\"ticks\":\"\",\"zerolinecolor\":\"white\"},\"yaxis\":{\"backgroundcolor\":\"#E5ECF6\",\"gridcolor\":\"white\",\"gridwidth\":2,\"linecolor\":\"white\",\"showbackground\":true,\"ticks\":\"\",\"zerolinecolor\":\"white\"},\"zaxis\":{\"backgroundcolor\":\"#E5ECF6\",\"gridcolor\":\"white\",\"gridwidth\":2,\"linecolor\":\"white\",\"showbackground\":true,\"ticks\":\"\",\"zerolinecolor\":\"white\"}},\"shapedefaults\":{\"line\":{\"color\":\"#2a3f5f\"}},\"ternary\":{\"aaxis\":{\"gridcolor\":\"white\",\"linecolor\":\"white\",\"ticks\":\"\"},\"baxis\":{\"gridcolor\":\"white\",\"linecolor\":\"white\",\"ticks\":\"\"},\"bgcolor\":\"#E5ECF6\",\"caxis\":{\"gridcolor\":\"white\",\"linecolor\":\"white\",\"ticks\":\"\"}},\"title\":{\"x\":0.05},\"xaxis\":{\"automargin\":true,\"gridcolor\":\"white\",\"linecolor\":\"white\",\"ticks\":\"\",\"title\":{\"standoff\":15},\"zerolinecolor\":\"white\",\"zerolinewidth\":2},\"yaxis\":{\"automargin\":true,\"gridcolor\":\"white\",\"linecolor\":\"white\",\"ticks\":\"\",\"title\":{\"standoff\":15},\"zerolinecolor\":\"white\",\"zerolinewidth\":2}}},\"coloraxis\":{\"colorbar\":{\"title\":{\"text\":\"match_played\"}},\"colorscale\":[[0.0,\"rgb(253, 253, 204)\"],[0.09090909090909091,\"rgb(206, 236, 179)\"],[0.18181818181818182,\"rgb(156, 219, 165)\"],[0.2727272727272727,\"rgb(111, 201, 163)\"],[0.36363636363636365,\"rgb(86, 177, 163)\"],[0.45454545454545453,\"rgb(76, 153, 160)\"],[0.5454545454545454,\"rgb(68, 130, 155)\"],[0.6363636363636364,\"rgb(62, 108, 150)\"],[0.7272727272727273,\"rgb(62, 82, 143)\"],[0.8181818181818182,\"rgb(64, 60, 115)\"],[0.9090909090909091,\"rgb(54, 43, 77)\"],[1.0,\"rgb(39, 26, 44)\"]]},\"legend\":{\"tracegroupgap\":0},\"margin\":{\"t\":50,\"l\":25,\"r\":25,\"b\":25},\"height\":500,\"width\":1000,\"title\":{\"text\":\"Matches Played per Club\",\"x\":0.5}},                        {\"responsive\": true}                    ).then(function(){\n",
       "                            \n",
       "var gd = document.getElementById('49f421c0-1e7c-4936-80c1-6d5fa7c0ebc7');\n",
       "var x = new MutationObserver(function (mutations, observer) {{\n",
       "        var display = window.getComputedStyle(gd).display;\n",
       "        if (!display || display === 'none') {{\n",
       "            console.log([gd, 'removed!']);\n",
       "            Plotly.purge(gd);\n",
       "            observer.disconnect();\n",
       "        }}\n",
       "}});\n",
       "\n",
       "// Listen for the removal of the full notebook cells\n",
       "var notebookContainer = gd.closest('#notebook-container');\n",
       "if (notebookContainer) {{\n",
       "    x.observe(notebookContainer, {childList: true});\n",
       "}}\n",
       "\n",
       "// Listen for the clearing of the current output cell\n",
       "var outputEl = gd.closest('.output');\n",
       "if (outputEl) {{\n",
       "    x.observe(outputEl, {childList: true});\n",
       "}}\n",
       "\n",
       "                        })                };                });            </script>        </div>"
      ]
     },
     "metadata": {},
     "output_type": "display_data"
    }
   ],
   "source": [
    "mtchplt = key_stats.groupby('club',as_index = False)['match_played'].max().sort_values(by='match_played', ascending=False) # Organize data frame\n",
    "\n",
    "fig = px.treemap(mtchplt, path=['club'],values= 'match_played', color='match_played', color_continuous_scale= 'deep', width=1000, height=500) # Build Treemap\n",
    "\n",
    "fig.update_layout(title_text='Matches Played per Club', title_x=0.5) # Align title to center \n",
    "fig.update_layout(margin = dict(t=50, l=25, r=25, b=25)) # Adjust margins\n",
    "fig.show() # Show Treemap"
   ]
  },
  {
   "cell_type": "markdown",
   "id": "cd93ef58",
   "metadata": {},
   "source": [
    "**Insight:**\n",
    "* Real Madrid and Liverpool aggregated the most amount of matches played in the tournament (final match played amongst them)\n",
    "* Villarreal and Man. City came away witht second most amount of matches played due to the fact they played a 3rd/4rd place match\n",
    "* LOSC, Atletico, Bayern and Benefica had the third most matches having partaken in the quarter-final matches\n",
    "* Chelsea, Ajax, Salzburg, Man. United, Paris, Inter, Sporting CP and Juventus followed as the most matches played having partaken in the round of 16\n",
    "* The remaining teams partook of the standard group stage matches unfortunately not qualifying to the knockout stages of competition"
   ]
  },
  {
   "cell_type": "code",
   "execution_count": 20,
   "id": "06a935e0",
   "metadata": {},
   "outputs": [
    {
     "data": {
      "text/plain": [
       "[Text(0.5, 0, 'Player'), Text(0, 0.5, 'Goals')]"
      ]
     },
     "execution_count": 20,
     "metadata": {},
     "output_type": "execute_result"
    },
    {
     "data": {
      "image/png": "[encoded data removed]",
      "text/plain": [
       "<Figure size 1080x360 with 1 Axes>"
      ]
     },
     "metadata": {},
     "output_type": "display_data"
    }
   ],
   "source": [
    "tgsplt = key_stats.groupby('player_name',as_index = False)['goals'].sum().sort_values(by='goals', ascending=False)[:10] # Organize data frame set limit to 10 players\n",
    "sns.set(rc = {'figure.figsize':(15,5)}) # Adjust plot size\n",
    "plt.xticks(fontsize=10, rotation='vertical') # Format axis ticks\n",
    "a = sns.barplot(x='player_name', y='goals', data=tgsplt, palette='mako') # Customize and set axis parameters\n",
    "a.axes.set_title('Top Ten Goal Scorers', fontsize='20') # Set title\n",
    "a.set(xlabel='Player', ylabel='Goals') # Label x and y axis"
   ]
  },
  {
   "cell_type": "markdown",
   "id": "6ba8593d",
   "metadata": {},
   "source": [
    "**Insight:**\n",
    "* Benzema was the top scorer of the entire competition having scored 15 goals in 13 matches. **1.15 goals per game**\n",
    "* Lewandowski was the runner up scorer with 13 goals despite only having participated in 10 matches. **1.3 goals per game**\n",
    "* Haller in third, netted 11 goals in 8 mathces. **1.37 goals per game**\n",
    "* Salah came in fourth despite having played 13 matches netting in 8 goals. **.61 goals per game**"
   ]
  },
  {
   "cell_type": "code",
   "execution_count": null,
   "id": "937a98d7",
   "metadata": {},
   "outputs": [],
   "source": []
  }
 ],
 "metadata": {
  "kernelspec": {
   "display_name": "Python 3 (ipykernel)",
   "language": "python",
   "name": "python3"
  },
  "language_info": {
   "codemirror_mode": {
    "name": "ipython",
    "version": 3
   },
   "file_extension": ".py",
   "mimetype": "text/x-python",
   "name": "python",
   "nbconvert_exporter": "python",
   "pygments_lexer": "ipython3",
   "version": "3.9.12"
  }
 },
 "nbformat": 4,
 "nbformat_minor": 5
}
